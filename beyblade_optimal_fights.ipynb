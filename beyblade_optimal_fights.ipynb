{
 "cells": [
  {
   "cell_type": "markdown",
   "metadata": {},
   "source": [
    "# Finding the optimal no. of fights against other teams by G-revolution."
   ]
  },
  {
   "cell_type": "code",
   "execution_count": 14,
   "metadata": {},
   "outputs": [
    {
     "name": "stdout",
     "output_type": "stream",
     "text": [
      "1\n",
      "5\n",
      "2 4 7 8 9\n",
      "5 4 4 6 7\n",
      "3\n"
     ]
    }
   ],
   "source": [
    "def main():\n",
    "    win_ar=[]\n",
    "    T=int(input())\n",
    "    while T>0:\n",
    "        total_memb=int(input())\n",
    "        g_rev=list(map(int, input().rstrip().split(\" \")))\n",
    "        opp=list(map(int, input().rstrip().split(\" \")))\n",
    "        g_rev.sort()\n",
    "        opp.sort()\n",
    "        g_rev.reverse()\n",
    "        opp.reverse()\n",
    "        n2=0\n",
    "        count=0\n",
    "        while len(g_rev) > 0 and n2<len(opp):\n",
    "            b1=g_rev[0]\n",
    "            b2=opp[(n2)]\n",
    "            if b1>b2:\n",
    "                g_rev.remove(b1)\n",
    "                opp.remove(b2)\n",
    "                count+=1\n",
    "                n2=0\n",
    "            else:\n",
    "                n2+=1\n",
    "        win_ar.append(count)\n",
    "        T-=1\n",
    "    for i in win_ar:\n",
    "        print(i)\n",
    "\n",
    "\n",
    "main()"
   ]
  },
  {
   "cell_type": "code",
   "execution_count": null,
   "metadata": {},
   "outputs": [],
   "source": []
  }
 ],
 "metadata": {
  "kernelspec": {
   "display_name": "Python 3",
   "language": "python",
   "name": "python3"
  },
  "language_info": {
   "codemirror_mode": {
    "name": "ipython",
    "version": 3
   },
   "file_extension": ".py",
   "mimetype": "text/x-python",
   "name": "python",
   "nbconvert_exporter": "python",
   "pygments_lexer": "ipython3",
   "version": "3.7.0"
  }
 },
 "nbformat": 4,
 "nbformat_minor": 2
}
